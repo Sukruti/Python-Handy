{
 "cells": [
  {
   "cell_type": "markdown",
   "metadata": {},
   "source": [
    "# Tuple"
   ]
  },
  {
   "cell_type": "markdown",
   "metadata": {},
   "source": [
    "A tuple is a one-dimensional, fixed-length, immutable sequence of Python objects. Immutable implies that its content cannot be modified. \n",
    "\n",
    "The easiest way to create a tuple is to provide a comma-separated sequence of values. In this example, a tuple is assigned a bunch of mixed comma separated data type values enclosed within parentheses. \n",
    "\n",
    "Let’s view it by referencing the tuple object. To access the tuple element at index 1, use the syntax shown here. The index usually starts from 0. \n",
    "\n",
    "If you try to modify the value at a specified index, it throws an error since a tuple is immutable. \n",
    "\n",
    "\n"
   ]
  },
  {
   "cell_type": "code",
   "execution_count": 1,
   "metadata": {},
   "outputs": [
    {
     "name": "stdout",
     "output_type": "stream",
     "text": [
      "('physics', 'chemistry', 1997, 2000)\n"
     ]
    }
   ],
   "source": [
    "tup1 = (\"physics\", \"chemistry\", 1997, 2000)\n",
    "print (tup1)"
   ]
  },
  {
   "cell_type": "code",
   "execution_count": 2,
   "metadata": {},
   "outputs": [
    {
     "name": "stdout",
     "output_type": "stream",
     "text": [
      "Orignal Tuple =  ('physics', 'chemistry', 1997, 2000)\n"
     ]
    },
    {
     "ename": "TypeError",
     "evalue": "'tuple' object does not support item assignment",
     "output_type": "error",
     "traceback": [
      "\u001b[1;31m---------------------------------------------------------------------------\u001b[0m",
      "\u001b[1;31mTypeError\u001b[0m                                 Traceback (most recent call last)",
      "\u001b[1;32m<ipython-input-2-1a6e107c6591>\u001b[0m in \u001b[0;36m<module>\u001b[1;34m()\u001b[0m\n\u001b[0;32m      5\u001b[0m \u001b[0mprint\u001b[0m \u001b[1;33m(\u001b[0m\u001b[1;34m'Orignal Tuple = '\u001b[0m\u001b[1;33m,\u001b[0m \u001b[0mtup1\u001b[0m\u001b[1;33m)\u001b[0m\u001b[1;33m\u001b[0m\u001b[0m\n\u001b[0;32m      6\u001b[0m \u001b[1;33m\u001b[0m\u001b[0m\n\u001b[1;32m----> 7\u001b[1;33m \u001b[0mtup1\u001b[0m\u001b[1;33m[\u001b[0m\u001b[1;36m2\u001b[0m\u001b[1;33m]\u001b[0m \u001b[1;33m=\u001b[0m \u001b[1;34m'maths'\u001b[0m\u001b[1;33m\u001b[0m\u001b[0m\n\u001b[0m\u001b[0;32m      8\u001b[0m \u001b[1;33m\u001b[0m\u001b[0m\n\u001b[0;32m      9\u001b[0m \u001b[0mprint\u001b[0m \u001b[1;33m(\u001b[0m\u001b[1;34m'Updated Tuple = '\u001b[0m\u001b[1;33m,\u001b[0m \u001b[0mtup1\u001b[0m\u001b[1;33m)\u001b[0m\u001b[1;33m\u001b[0m\u001b[0m\n",
      "\u001b[1;31mTypeError\u001b[0m: 'tuple' object does not support item assignment"
     ]
    }
   ],
   "source": [
    "# Update Tuple\n",
    "\n",
    "tup1 = (\"physics\", \"chemistry\", 1997, 2000)\n",
    "\n",
    "print ('Orignal Tuple = ', tup1)\n",
    "\n",
    "tup1[2] = 'maths'\n",
    "\n",
    "print ('Updated Tuple = ', tup1)"
   ]
  },
  {
   "cell_type": "code",
   "execution_count": 3,
   "metadata": {},
   "outputs": [
    {
     "name": "stdout",
     "output_type": "stream",
     "text": [
      "Orignal Tuple =  ('physics', 'chemistry', 1997, 2000)\n"
     ]
    },
    {
     "ename": "TypeError",
     "evalue": "'tuple' object doesn't support item deletion",
     "output_type": "error",
     "traceback": [
      "\u001b[1;31m---------------------------------------------------------------------------\u001b[0m",
      "\u001b[1;31mTypeError\u001b[0m                                 Traceback (most recent call last)",
      "\u001b[1;32m<ipython-input-3-699521eaf115>\u001b[0m in \u001b[0;36m<module>\u001b[1;34m()\u001b[0m\n\u001b[0;32m      5\u001b[0m \u001b[0mprint\u001b[0m \u001b[1;33m(\u001b[0m\u001b[1;34m'Orignal Tuple = '\u001b[0m\u001b[1;33m,\u001b[0m \u001b[0mtup1\u001b[0m\u001b[1;33m)\u001b[0m\u001b[1;33m\u001b[0m\u001b[0m\n\u001b[0;32m      6\u001b[0m \u001b[1;33m\u001b[0m\u001b[0m\n\u001b[1;32m----> 7\u001b[1;33m \u001b[1;32mdel\u001b[0m \u001b[0mtup1\u001b[0m\u001b[1;33m[\u001b[0m\u001b[1;36m2\u001b[0m\u001b[1;33m]\u001b[0m\u001b[1;33m\u001b[0m\u001b[0m\n\u001b[0m\u001b[0;32m      8\u001b[0m \u001b[1;33m\u001b[0m\u001b[0m\n\u001b[0;32m      9\u001b[0m \u001b[0mprint\u001b[0m \u001b[1;33m(\u001b[0m\u001b[1;34m'Updated Tuple = '\u001b[0m\u001b[1;33m,\u001b[0m \u001b[0mtup1\u001b[0m\u001b[1;33m)\u001b[0m\u001b[1;33m\u001b[0m\u001b[0m\n",
      "\u001b[1;31mTypeError\u001b[0m: 'tuple' object doesn't support item deletion"
     ]
    }
   ],
   "source": [
    "# Delete an element of tuple\n",
    "\n",
    "tup1 = (\"physics\", \"chemistry\", 1997, 2000)\n",
    "\n",
    "print ('Orignal Tuple = ', tup1)\n",
    "\n",
    "del tup1[2]\n",
    "\n",
    "print ('Updated Tuple = ', tup1)"
   ]
  },
  {
   "cell_type": "code",
   "execution_count": 4,
   "metadata": {},
   "outputs": [],
   "source": [
    "tup1 = (3,4,5)\n",
    "del tup1"
   ]
  },
  {
   "cell_type": "code",
   "execution_count": 5,
   "metadata": {},
   "outputs": [
    {
     "ename": "NameError",
     "evalue": "name 'tup1' is not defined",
     "output_type": "error",
     "traceback": [
      "\u001b[1;31m---------------------------------------------------------------------------\u001b[0m",
      "\u001b[1;31mNameError\u001b[0m                                 Traceback (most recent call last)",
      "\u001b[1;32m<ipython-input-5-96d918311f63>\u001b[0m in \u001b[0;36m<module>\u001b[1;34m()\u001b[0m\n\u001b[1;32m----> 1\u001b[1;33m \u001b[0mprint\u001b[0m \u001b[1;33m(\u001b[0m\u001b[0mtup1\u001b[0m\u001b[1;33m)\u001b[0m\u001b[1;33m\u001b[0m\u001b[0m\n\u001b[0m",
      "\u001b[1;31mNameError\u001b[0m: name 'tup1' is not defined"
     ]
    }
   ],
   "source": [
    "print (tup1)"
   ]
  },
  {
   "cell_type": "markdown",
   "metadata": {},
   "source": [
    "We can use the index of an element to view and access it. To access elements with the help of positive indices, count from the left, starting with 0. \n",
    "\n",
    "You can also use negative indices by counting from the right, starting with -1. Negative indices are useful as they help you to easily refer to elements at the end of a long tuple."
   ]
  },
  {
   "cell_type": "markdown",
   "metadata": {},
   "source": [
    "Once you have seen how to access individual elements in a tuple. You can also access a range or slice of elements within a tuple. \n",
    "\n",
    "Slicing allows you to create a subset of the tuple. To slice a tuple, mention the indices of the first element and that of the element immediately after the last element. This is because while the first index is inclusive, the second one is not. \n",
    "\n",
    "For example, here we can see that referencing indices 1 to 4, creates a tuple subset containing the elements from index 1 to 3.\n",
    "\n",
    "You can also use negative indices to slice tuples, as shown here.\n",
    "\n"
   ]
  },
  {
   "cell_type": "code",
   "execution_count": null,
   "metadata": {},
   "outputs": [],
   "source": [
    "tup1 = ('abcd', 786, 2.23, 'john', 70.2)\n",
    "tinytuple = (123, 'jane')\n",
    "\n",
    "print (tup1[0])\n",
    "print (tup1[1:3])\n",
    "print (tup1[2:])\n",
    "print (tup1[1:-1])\n",
    "print (tinytuple * 2)\n",
    "print (tup1 + tinytuple)"
   ]
  },
  {
   "cell_type": "markdown",
   "metadata": {},
   "source": [
    "# Lists"
   ]
  },
  {
   "cell_type": "markdown",
   "metadata": {},
   "source": [
    "In contrast with tuples, the length of lists is variable and their contents can be modified. They can be defined using square brackets []. \n",
    "\n",
    "Here, a list is defined using comma separated values of mixed data types. \n",
    "\n",
    "We can view the content of the list by just referring to the list object. \n",
    "\n",
    "You can use the append method to add a value to the list. Note that this value gets added to the end of the list. \n",
    "\n",
    "We can also remove any particular item by just referring to the element value. \n",
    "\n",
    "Use the pop method to simultaneously view and remove the value at a particular index. \n",
    "\n",
    "Similarly, use the insert method to insert a value at a particular index. "
   ]
  },
  {
   "cell_type": "code",
   "execution_count": 6,
   "metadata": {},
   "outputs": [
    {
     "name": "stdout",
     "output_type": "stream",
     "text": [
      "List is =  [10, 20, 30, 40, 50]\n"
     ]
    }
   ],
   "source": [
    "SimpleList = [10,20,30,40,50]\n",
    "print (\"List is = \", SimpleList)"
   ]
  },
  {
   "cell_type": "code",
   "execution_count": 7,
   "metadata": {},
   "outputs": [
    {
     "name": "stdout",
     "output_type": "stream",
     "text": [
      "List is =  [10.0, 20.0, 30.0, 40.0, 50.0]\n"
     ]
    }
   ],
   "source": [
    "FloatList = [10.0,20.0,30.0,40.0,50.0]\n",
    "print (\"List is = \", FloatList)"
   ]
  },
  {
   "cell_type": "code",
   "execution_count": 8,
   "metadata": {},
   "outputs": [
    {
     "name": "stdout",
     "output_type": "stream",
     "text": [
      "List is =  ['my', 'python']\n"
     ]
    }
   ],
   "source": [
    "StringList = [\"my\", \"python\"]\n",
    "print (\"List is = \", StringList)"
   ]
  },
  {
   "cell_type": "code",
   "execution_count": 9,
   "metadata": {},
   "outputs": [
    {
     "name": "stdout",
     "output_type": "stream",
     "text": [
      "[100, 5.2, 'class']\n"
     ]
    }
   ],
   "source": [
    "CL = [100, 5.2, 'class']\n",
    "print (CL)"
   ]
  },
  {
   "cell_type": "code",
   "execution_count": 10,
   "metadata": {},
   "outputs": [
    {
     "name": "stdout",
     "output_type": "stream",
     "text": [
      "physics\n",
      "[2, 3, 4, 5]\n"
     ]
    }
   ],
   "source": [
    "list1 = ['physics', 'chemistry', 1997, 2000]\n",
    "list2 = [1,2,3,4,5,6,7]\n",
    "\n",
    "print (list1[0])\n",
    "print (list2[1:5])"
   ]
  },
  {
   "cell_type": "code",
   "execution_count": 11,
   "metadata": {},
   "outputs": [
    {
     "name": "stdout",
     "output_type": "stream",
     "text": [
      "['physics', 'chemistry', 1997, 2000]\n",
      "Orignal - Value at index 2 =  1997\n",
      "Updated - Value at index 2 =  2001\n",
      "['physics', 'chemistry', 2001, 2000]\n"
     ]
    }
   ],
   "source": [
    "#Updating the list\n",
    "\n",
    "list1 = ['physics', 'chemistry', 1997, 2000]\n",
    "print (list1)\n",
    "\n",
    "print (\"Orignal - Value at index 2 = \", list1[2])\n",
    "\n",
    "list1[2] = 2001\n",
    "\n",
    "print (\"Updated - Value at index 2 = \", list1[2])\n",
    "print (list1)"
   ]
  },
  {
   "cell_type": "code",
   "execution_count": 12,
   "metadata": {},
   "outputs": [
    {
     "name": "stdout",
     "output_type": "stream",
     "text": [
      "['physics', 'chemistry', 1997, 2000]\n",
      "Orignal - Value at index 2 =  1997\n",
      "Updated - Value at index 2 =  2000\n",
      "['physics', 'chemistry', 2000]\n"
     ]
    }
   ],
   "source": [
    "#Deleting an element from the list\n",
    "\n",
    "list1 = ['physics', 'chemistry', 1997, 2000]\n",
    "print (list1)\n",
    "\n",
    "print (\"Orignal - Value at index 2 = \", list1[2])\n",
    "\n",
    "del (list1[2])\n",
    "\n",
    "print (\"Updated - Value at index 2 = \", list1[2])\n",
    "print (list1)"
   ]
  },
  {
   "cell_type": "code",
   "execution_count": 13,
   "metadata": {},
   "outputs": [
    {
     "name": "stdout",
     "output_type": "stream",
     "text": [
      "Updated List :  [123, 'xyz', 'zara', 'abc', 2009]\n"
     ]
    }
   ],
   "source": [
    "# list append() -- Modify - adding a new value\n",
    "\n",
    "aList = [123, 'xyz', 'zara', 'abc']\n",
    "\n",
    "aList.append(2009)\n",
    "\n",
    "print (\"Updated List : \", aList)"
   ]
  },
  {
   "cell_type": "code",
   "execution_count": 14,
   "metadata": {},
   "outputs": [
    {
     "name": "stdout",
     "output_type": "stream",
     "text": [
      "Extended List  [123, 'xyz', 'zara', 'abc', 2009, 'mani']\n"
     ]
    }
   ],
   "source": [
    "# list extend -- Add other list\n",
    "aList = [123, 'xyz', 'zara', 'abc']\n",
    "bList = [2009, 'mani']\n",
    "\n",
    "aList.extend(bList)\n",
    "\n",
    "print (\"Extended List \", aList)"
   ]
  },
  {
   "cell_type": "code",
   "execution_count": 15,
   "metadata": {},
   "outputs": [
    {
     "name": "stdout",
     "output_type": "stream",
     "text": [
      "Extended List a  [123, 'xyz', 'zara', 'abc', 2009, 'mani']\n",
      "Extended List b  [2009, 'mani', 123, 'xyz', 'zara', 'abc', 2009, 'mani']\n"
     ]
    }
   ],
   "source": [
    "bList.extend(aList)\n",
    "\n",
    "print (\"Extended List a \", aList)\n",
    "print (\"Extended List b \", bList)"
   ]
  },
  {
   "cell_type": "code",
   "execution_count": 18,
   "metadata": {
    "collapsed": true
   },
   "outputs": [
    {
     "name": "stdout",
     "output_type": "stream",
     "text": [
      "1\n",
      "2\n"
     ]
    }
   ],
   "source": [
    "#Shows the index of an element\n",
    "\n",
    "aList = [123, 'xyz', 'zara', 'abc']\n",
    "\n",
    "print (aList.index('xyz'))\n",
    "print (aList.index('zara'))"
   ]
  },
  {
   "cell_type": "code",
   "execution_count": 19,
   "metadata": {
    "collapsed": true
   },
   "outputs": [
    {
     "name": "stdout",
     "output_type": "stream",
     "text": [
      "[123, 'xyz', 'zara', 2009, 'abc']\n"
     ]
    }
   ],
   "source": [
    "#Modify a list: Insert a new item at a certain index\n",
    "\n",
    "aList = [123, 'xyz', 'zara', 'abc']\n",
    "\n",
    "aList.insert(3,2009)\n",
    "print (aList) "
   ]
  },
  {
   "cell_type": "code",
   "execution_count": null,
   "metadata": {},
   "outputs": [],
   "source": [
    "#remove - element \n",
    "aList = [123, 'xyz', 'zara', 'abc']\n",
    "\n",
    "aList.remove('xyz')\n",
    "print ('List = ', aList)\n",
    "\n",
    "aList.remove('zara')\n",
    "print ('List = ', aList)\n"
   ]
  },
  {
   "cell_type": "code",
   "execution_count": 20,
   "metadata": {},
   "outputs": [
    {
     "name": "stdout",
     "output_type": "stream",
     "text": [
      "List =  [123, 'zara', 'abc', 'xyz']\n",
      "List =  [123, 'zara', 'abc']\n",
      "List =  [123, 'abc']\n"
     ]
    }
   ],
   "source": [
    "#Modify a list: Remove items\n",
    "\n",
    "aList = [123, 'xyz', 'zara', 'abc', 'xyz']\n",
    "\n",
    "aList.remove('xyz') \n",
    "print ('List = ', aList)\n",
    "\n",
    "aList.remove('xyz')\n",
    "print ('List = ', aList)\n",
    "\n",
    "aList.remove('zara')\n",
    "print ('List = ', aList)"
   ]
  },
  {
   "cell_type": "code",
   "execution_count": 21,
   "metadata": {},
   "outputs": [
    {
     "name": "stdout",
     "output_type": "stream",
     "text": [
      "abc\n",
      "zara\n",
      "[123, 'xyz']\n"
     ]
    }
   ],
   "source": [
    "#pop = remove list element using indices\n",
    "aList = [123, 'xyz', 'zara', 'abc']\n",
    "\n",
    "print (aList.pop()) #Access and remove list data using element indices\n",
    "\n",
    "print (aList.pop(2))\n",
    "print (aList)"
   ]
  },
  {
   "cell_type": "code",
   "execution_count": 22,
   "metadata": {},
   "outputs": [],
   "source": [
    "del aList # deleting the entire list"
   ]
  },
  {
   "cell_type": "code",
   "execution_count": 23,
   "metadata": {},
   "outputs": [
    {
     "ename": "NameError",
     "evalue": "name 'aList' is not defined",
     "output_type": "error",
     "traceback": [
      "\u001b[1;31m---------------------------------------------------------------------------\u001b[0m",
      "\u001b[1;31mNameError\u001b[0m                                 Traceback (most recent call last)",
      "\u001b[1;32m<ipython-input-23-32bcf2dda99a>\u001b[0m in \u001b[0;36m<module>\u001b[1;34m()\u001b[0m\n\u001b[1;32m----> 1\u001b[1;33m \u001b[0mprint\u001b[0m \u001b[1;33m(\u001b[0m\u001b[0maList\u001b[0m\u001b[1;33m)\u001b[0m\u001b[1;33m\u001b[0m\u001b[0m\n\u001b[0m",
      "\u001b[1;31mNameError\u001b[0m: name 'aList' is not defined"
     ]
    }
   ],
   "source": [
    "print (aList)"
   ]
  },
  {
   "cell_type": "markdown",
   "metadata": {},
   "source": [
    "Just like tuples, you can access elements in a list through indices. \n",
    "\n",
    "As you have learned earlier, positive indices are counted from the left, starting with 0. By providing the positive index, we can access the specified list element. \n",
    "\n",
    "Recall that negative indices are counted from the right, starting with -1. Since -2 refers to the second element from the right in the list, the value 5.2 is generated as the output."
   ]
  },
  {
   "cell_type": "code",
   "execution_count": 24,
   "metadata": {},
   "outputs": [
    {
     "name": "stdout",
     "output_type": "stream",
     "text": [
      "100\n",
      "5.2\n",
      "class\n"
     ]
    }
   ],
   "source": [
    "print (CL[0])\n",
    "print (CL[1])\n",
    "print (CL[2])"
   ]
  },
  {
   "cell_type": "code",
   "execution_count": 25,
   "metadata": {},
   "outputs": [
    {
     "name": "stdout",
     "output_type": "stream",
     "text": [
      "100\n",
      "5.2\n",
      "class\n"
     ]
    }
   ],
   "source": [
    "print (CL[-3])\n",
    "print (CL[-2])\n",
    "print (CL[-1])"
   ]
  },
  {
   "cell_type": "code",
   "execution_count": 26,
   "metadata": {},
   "outputs": [],
   "source": [
    "first_list = [500, 'Smith', 5.2, 'John', 'class', 1000, 45.95]"
   ]
  },
  {
   "cell_type": "code",
   "execution_count": 27,
   "metadata": {},
   "outputs": [
    {
     "name": "stdout",
     "output_type": "stream",
     "text": [
      "['Smith', 5.2, 'John']\n",
      "['Smith', 5.2, 'John', 'class']\n"
     ]
    }
   ],
   "source": [
    "print (first_list[1:4]) #Count starts with the first index but stops before the second index\n",
    "print (first_list[1:-2]) # Even for negative indices, the count stops before the second index"
   ]
  },
  {
   "cell_type": "code",
   "execution_count": 29,
   "metadata": {},
   "outputs": [],
   "source": [
    "A = [1, 2, 3 ,4 , [10,20,30,40]] # Nested Lists"
   ]
  },
  {
   "cell_type": "markdown",
   "metadata": {},
   "source": [
    "how will i print [10,20,30,40]?\n",
    "\n",
    "how will i print 30?"
   ]
  },
  {
   "cell_type": "code",
   "execution_count": 30,
   "metadata": {},
   "outputs": [
    {
     "name": "stdout",
     "output_type": "stream",
     "text": [
      "[10, 20, 30, 40]\n"
     ]
    }
   ],
   "source": [
    "print (A[-1])"
   ]
  },
  {
   "cell_type": "code",
   "execution_count": 31,
   "metadata": {},
   "outputs": [
    {
     "name": "stdout",
     "output_type": "stream",
     "text": [
      "30\n"
     ]
    }
   ],
   "source": [
    "print (A[-1][2])"
   ]
  },
  {
   "cell_type": "code",
   "execution_count": 34,
   "metadata": {},
   "outputs": [
    {
     "name": "stdout",
     "output_type": "stream",
     "text": [
      "<class 'list'>\n",
      "30\n"
     ]
    }
   ],
   "source": [
    "a = A[-1]\n",
    "print (type(a))\n",
    "print (a[2])"
   ]
  },
  {
   "cell_type": "code",
   "execution_count": 33,
   "metadata": {},
   "outputs": [
    {
     "name": "stdout",
     "output_type": "stream",
     "text": [
      "[10, 20, 30, 40]\n",
      "30\n"
     ]
    }
   ],
   "source": [
    "B = A[-1]\n",
    "print (B)\n",
    "print (B[2])"
   ]
  },
  {
   "cell_type": "code",
   "execution_count": null,
   "metadata": {},
   "outputs": [],
   "source": [
    "aList = [123, 'xyz', 'zara', 'abc']\n",
    "print (aList)\n",
    "\n",
    "aTuple = tuple(aList)\n",
    "print (aTuple)"
   ]
  },
  {
   "cell_type": "code",
   "execution_count": null,
   "metadata": {},
   "outputs": [],
   "source": [
    "aTuple = (123, 'xyz', 'zara', 'abc')\n",
    "print (aTuple)\n",
    "\n",
    "aList = list(aTuple)\n",
    "print (aList)"
   ]
  },
  {
   "cell_type": "markdown",
   "metadata": {},
   "source": [
    "# Dictionary"
   ]
  },
  {
   "cell_type": "markdown",
   "metadata": {},
   "source": [
    "Dictionary is likely the most important built-in Python data structure. \n",
    "\n",
    "Dictionaries store a mapping between a set of keys and a set of values. Keys are variables, and they are listed together with the values assigned to them. This forms a key-value pair. The keys can be of any immutable type and the values can be of any type. A dictionary is a flexibly-sized collection of key-value pairs, where keys and values are Python objects."
   ]
  },
  {
   "cell_type": "markdown",
   "metadata": {},
   "source": [
    "You can create a dictionary using colons to separate keys and values enclosed within curly braces. \n",
    "\n",
    "In this example, the dictionary contains three key value pairs separated by colons and enclosed within curly braces. \n",
    "\n",
    "We can view the content of the dictionary or dict by referring to the dict object. \n",
    "\n",
    "Use the keys() method to view all the keys. \n",
    "\n",
    "Similarly, use the values() method to view all the values present in the dictionary. "
   ]
  },
  {
   "cell_type": "code",
   "execution_count": 36,
   "metadata": {},
   "outputs": [],
   "source": [
    "dict1 = {'Name': 'Zara', 'Age': 7, 'Class': 'First'}"
   ]
  },
  {
   "cell_type": "code",
   "execution_count": 37,
   "metadata": {},
   "outputs": [
    {
     "data": {
      "text/plain": [
       "{'Name': 'Zara', 'Age': 7, 'Class': 'First'}"
      ]
     },
     "execution_count": 37,
     "metadata": {},
     "output_type": "execute_result"
    }
   ],
   "source": [
    "dict1 # View entire dictionary"
   ]
  },
  {
   "cell_type": "code",
   "execution_count": 38,
   "metadata": {},
   "outputs": [
    {
     "name": "stdout",
     "output_type": "stream",
     "text": [
      "dict_keys(['Name', 'Age', 'Class'])\n"
     ]
    }
   ],
   "source": [
    "print (dict1.keys()) #View only keys"
   ]
  },
  {
   "cell_type": "code",
   "execution_count": 39,
   "metadata": {},
   "outputs": [
    {
     "name": "stdout",
     "output_type": "stream",
     "text": [
      "dict_values(['Zara', 7, 'First'])\n"
     ]
    }
   ],
   "source": [
    "print (dict1.values()) #View only values"
   ]
  },
  {
   "cell_type": "markdown",
   "metadata": {},
   "source": [
    "You can also access and modify individual elements in a dict. \n",
    "\n",
    "To access a value, pass the key name to the dict object. \n",
    "\n",
    "In this example, passing the name ‘Name’ retrieves the associated value, which is the name of the person. Similarly, passing ‘Age’ retrieves the values associated with it. You can access only one value through the key.\n",
    "\n",
    "Use the update method to update the value for a corresponding key. Here, you can see how the values for ‘id’ are updated. \n",
    "\n",
    "You can also delete a key with the help of the ‘del’ function. You can see that the ‘id’ key and the values associated with it have been deleted from the dict. "
   ]
  },
  {
   "cell_type": "code",
   "execution_count": 40,
   "metadata": {},
   "outputs": [
    {
     "name": "stdout",
     "output_type": "stream",
     "text": [
      "Zara\n",
      "7\n"
     ]
    }
   ],
   "source": [
    "#Access with keys\n",
    "\n",
    "print (dict1['Name'])\n",
    "print (dict1['Age'])"
   ]
  },
  {
   "cell_type": "code",
   "execution_count": 41,
   "metadata": {},
   "outputs": [],
   "source": [
    "dict1.update({'Age': [7,8]})"
   ]
  },
  {
   "cell_type": "code",
   "execution_count": 42,
   "metadata": {},
   "outputs": [
    {
     "data": {
      "text/plain": [
       "{'Name': 'Zara', 'Age': [7, 8], 'Class': 'First'}"
      ]
     },
     "execution_count": 42,
     "metadata": {},
     "output_type": "execute_result"
    }
   ],
   "source": [
    "dict1"
   ]
  },
  {
   "cell_type": "code",
   "execution_count": 43,
   "metadata": {},
   "outputs": [
    {
     "name": "stdout",
     "output_type": "stream",
     "text": [
      "Dict1['Age'] =  8\n",
      "Dict1['School'] =  DPS\n",
      "{'Name': 'Zara', 'Age': 8, 'Class': 'First', 'School': 'DPS'}\n"
     ]
    }
   ],
   "source": [
    "dict1 = {'Name': 'Zara', 'Age': 7, 'Class': 'First'}\n",
    "\n",
    "dict1['Age'] = 8\n",
    "dict1['School'] = 'DPS'\n",
    "\n",
    "print (\"Dict1['Age'] = \", dict1['Age'])\n",
    "print (\"Dict1['School'] = \", dict1['School'])\n",
    "print (dict1)"
   ]
  },
  {
   "cell_type": "code",
   "execution_count": 44,
   "metadata": {},
   "outputs": [
    {
     "name": "stdout",
     "output_type": "stream",
     "text": [
      "{'Name': 'Zara', 'Age': 9, 'Class': 'First', 'School': 'Vidhya'}\n"
     ]
    }
   ],
   "source": [
    "dict1.update({'Age':9})\n",
    "dict1.update({'School':'Vidhya'})\n",
    "\n",
    "print (dict1)"
   ]
  },
  {
   "cell_type": "code",
   "execution_count": 45,
   "metadata": {},
   "outputs": [
    {
     "name": "stdout",
     "output_type": "stream",
     "text": [
      "{'Name': 'Zara', 'Age': 7, 'Class': 'First'}\n"
     ]
    }
   ],
   "source": [
    "#Delete Dictionary Elements\n",
    "\n",
    "dict1 = {'Name':'Zara', 'Age': 7, 'Class': 'First'}\n",
    "print (dict1)\n"
   ]
  },
  {
   "cell_type": "code",
   "execution_count": 46,
   "metadata": {},
   "outputs": [
    {
     "name": "stdout",
     "output_type": "stream",
     "text": [
      "{'Age': 7, 'Class': 'First'}\n"
     ]
    }
   ],
   "source": [
    "del (dict1['Name'])\n",
    "print (dict1)"
   ]
  },
  {
   "cell_type": "code",
   "execution_count": 47,
   "metadata": {},
   "outputs": [
    {
     "name": "stdout",
     "output_type": "stream",
     "text": [
      "{}\n"
     ]
    }
   ],
   "source": [
    "dict1.clear()\n",
    "print (dict1)"
   ]
  },
  {
   "cell_type": "code",
   "execution_count": 48,
   "metadata": {},
   "outputs": [
    {
     "ename": "NameError",
     "evalue": "name 'dict1' is not defined",
     "output_type": "error",
     "traceback": [
      "\u001b[1;31m---------------------------------------------------------------------------\u001b[0m",
      "\u001b[1;31mNameError\u001b[0m                                 Traceback (most recent call last)",
      "\u001b[1;32m<ipython-input-48-272fca2f6b94>\u001b[0m in \u001b[0;36m<module>\u001b[1;34m()\u001b[0m\n\u001b[0;32m      1\u001b[0m \u001b[1;32mdel\u001b[0m \u001b[1;33m(\u001b[0m\u001b[0mdict1\u001b[0m\u001b[1;33m)\u001b[0m\u001b[1;33m\u001b[0m\u001b[0m\n\u001b[1;32m----> 2\u001b[1;33m \u001b[0mprint\u001b[0m \u001b[1;33m(\u001b[0m\u001b[0mdict1\u001b[0m\u001b[1;33m)\u001b[0m\u001b[1;33m\u001b[0m\u001b[0m\n\u001b[0m",
      "\u001b[1;31mNameError\u001b[0m: name 'dict1' is not defined"
     ]
    }
   ],
   "source": [
    "del (dict1)\n",
    "print (dict1)"
   ]
  },
  {
   "cell_type": "code",
   "execution_count": 49,
   "metadata": {},
   "outputs": [
    {
     "ename": "TypeError",
     "evalue": "unhashable type: 'list'",
     "output_type": "error",
     "traceback": [
      "\u001b[1;31m---------------------------------------------------------------------------\u001b[0m",
      "\u001b[1;31mTypeError\u001b[0m                                 Traceback (most recent call last)",
      "\u001b[1;32m<ipython-input-49-3ccddfbfc1f0>\u001b[0m in \u001b[0;36m<module>\u001b[1;34m()\u001b[0m\n\u001b[1;32m----> 1\u001b[1;33m \u001b[0mdict1\u001b[0m \u001b[1;33m=\u001b[0m \u001b[1;33m{\u001b[0m\u001b[1;33m[\u001b[0m\u001b[1;34m'Name'\u001b[0m\u001b[1;33m]\u001b[0m\u001b[1;33m:\u001b[0m\u001b[1;34m'Zara'\u001b[0m\u001b[1;33m,\u001b[0m \u001b[1;34m'Age'\u001b[0m\u001b[1;33m:\u001b[0m\u001b[1;36m7\u001b[0m \u001b[1;33m}\u001b[0m\u001b[1;33m\u001b[0m\u001b[0m\n\u001b[0m\u001b[0;32m      2\u001b[0m \u001b[0mprint\u001b[0m \u001b[1;33m(\u001b[0m\u001b[0mdict1\u001b[0m\u001b[1;33m)\u001b[0m\u001b[1;33m\u001b[0m\u001b[0m\n",
      "\u001b[1;31mTypeError\u001b[0m: unhashable type: 'list'"
     ]
    }
   ],
   "source": [
    "dict1 = {['Name']:'Zara', 'Age':7 }\n",
    "print (dict1)"
   ]
  },
  {
   "cell_type": "code",
   "execution_count": 50,
   "metadata": {},
   "outputs": [
    {
     "name": "stdout",
     "output_type": "stream",
     "text": [
      "3\n"
     ]
    }
   ],
   "source": [
    "dict1 = {'Name':'Zara', 'Age': 7, 'Class': 'First'}\n",
    "print (len(dict1))"
   ]
  },
  {
   "cell_type": "code",
   "execution_count": 51,
   "metadata": {},
   "outputs": [
    {
     "name": "stdout",
     "output_type": "stream",
     "text": [
      "<class 'dict'>\n"
     ]
    }
   ],
   "source": [
    "print (type(dict1))"
   ]
  },
  {
   "cell_type": "code",
   "execution_count": 52,
   "metadata": {},
   "outputs": [
    {
     "name": "stdout",
     "output_type": "stream",
     "text": [
      "dict_items([('Name', 'Zara'), ('Age', 7), ('Class', 'First')])\n"
     ]
    }
   ],
   "source": [
    "print (dict1.items())"
   ]
  }
 ],
 "metadata": {
  "anaconda-cloud": {},
  "kernelspec": {
   "display_name": "Python 3",
   "language": "python",
   "name": "python3"
  },
  "language_info": {
   "codemirror_mode": {
    "name": "ipython",
    "version": 3
   },
   "file_extension": ".py",
   "mimetype": "text/x-python",
   "name": "python",
   "nbconvert_exporter": "python",
   "pygments_lexer": "ipython3",
   "version": "3.7.0"
  }
 },
 "nbformat": 4,
 "nbformat_minor": 2
}
