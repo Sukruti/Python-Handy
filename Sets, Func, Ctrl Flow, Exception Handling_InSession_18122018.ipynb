{
 "cells": [
  {
   "cell_type": "markdown",
   "metadata": {},
   "source": [
    "# Sets"
   ]
  },
  {
   "cell_type": "markdown",
   "metadata": {},
   "source": [
    "A set is an unordered collection of unique elements. You can think of them as dicts, but without values. \n",
    "\n",
    "You can create a set using either the set function or by listing all the elements within curly braces.\n",
    "\n",
    "If you check the object’s type, you can see that it shows up as a set. To view the set, type its name. Note that ‘BMW’ and ‘GM’ which are mentioned twice, appear only once, since a set contains only unique elements. \n"
   ]
  },
  {
   "cell_type": "code",
   "execution_count": 22,
   "metadata": {},
   "outputs": [],
   "source": [
    "#Create a set\n",
    "auto_survey = set(['Audi', 'BMW', 'BMW', 'Ferrari', 'GM', 'Mercedes', 'Chervolet', 'GM'])"
   ]
  },
  {
   "cell_type": "code",
   "execution_count": 23,
   "metadata": {},
   "outputs": [
    {
     "data": {
      "text/plain": [
       "{'Audi', 'BMW', 'Chervolet', 'Ferrari', 'GM', 'Mercedes'}"
      ]
     },
     "execution_count": 23,
     "metadata": {},
     "output_type": "execute_result"
    }
   ],
   "source": [
    "#View the set\n",
    "auto_survey"
   ]
  },
  {
   "cell_type": "code",
   "execution_count": 24,
   "metadata": {},
   "outputs": [],
   "source": [
    "auto_survey_set = {'Audi', 'BMW', 'BMW', 'Ferrari', 'GM', 'Mercedes', 'Chervolet', 'GM'}"
   ]
  },
  {
   "cell_type": "code",
   "execution_count": 25,
   "metadata": {},
   "outputs": [
    {
     "data": {
      "text/plain": [
       "set"
      ]
     },
     "execution_count": 25,
     "metadata": {},
     "output_type": "execute_result"
    }
   ],
   "source": [
    "type(auto_survey_set)"
   ]
  },
  {
   "cell_type": "code",
   "execution_count": 26,
   "metadata": {},
   "outputs": [
    {
     "data": {
      "text/plain": [
       "{'Audi', 'BMW', 'Chervolet', 'Ferrari', 'GM', 'Mercedes'}"
      ]
     },
     "execution_count": 26,
     "metadata": {},
     "output_type": "execute_result"
    }
   ],
   "source": [
    "#View the set\n",
    "auto_survey_set"
   ]
  },
  {
   "cell_type": "code",
   "execution_count": 27,
   "metadata": {},
   "outputs": [],
   "source": [
    "auto_survey_set1 = {'Audi', 'BMW', 'BMW', 'Ferrari', 'GM', 'Mercedes', 'Chervolet', 'GM', 'Toyota'}\n",
    "auto_survey_set2 = {'Audi', 'BMW', 'Hyundai', 'Ferrari', 'Kiya','Ford', 'Mercedes', 'Chervolet', 'GM', 'Toyota', 'Zen'}"
   ]
  },
  {
   "cell_type": "code",
   "execution_count": 28,
   "metadata": {},
   "outputs": [
    {
     "name": "stdout",
     "output_type": "stream",
     "text": [
      "{'Kiya', 'Hyundai', 'Ford', 'Chervolet', 'GM', 'Audi', 'Ferrari', 'Zen', 'BMW', 'Mercedes', 'Toyota'}\n"
     ]
    }
   ],
   "source": [
    "#OR – Union set operation\n",
    "combined_survey_report = auto_survey_set1 | auto_survey_set2\n",
    "print (combined_survey_report)"
   ]
  },
  {
   "cell_type": "code",
   "execution_count": 29,
   "metadata": {},
   "outputs": [
    {
     "name": "stdout",
     "output_type": "stream",
     "text": [
      "{'Ferrari', 'Audi', 'BMW', 'Mercedes', 'Toyota', 'Chervolet', 'GM'}\n"
     ]
    }
   ],
   "source": [
    "#AND – Intersection set operation\n",
    "combined_survey_report = auto_survey_set1 & auto_survey_set2\n",
    "print (combined_survey_report)"
   ]
  },
  {
   "cell_type": "markdown",
   "metadata": {},
   "source": [
    "data structure is way for data collection.\n",
    "\n",
    "tuples,list,dict and set are basic data structures in python. \n",
    "\n",
    "tuples - for one dimensional and values can't be modfied. \n",
    "\n",
    "list - mixed type and values can be modifed. \n",
    "\n",
    "dict - stores value in the form of key-value pair\n",
    "\n",
    "set - stores only unique values..\n",
    "\n",
    "these are few preferences when it comes to choose the best fit for difference use cases."
   ]
  },
  {
   "cell_type": "markdown",
   "metadata": {},
   "source": [
    "# Functions"
   ]
  },
  {
   "cell_type": "code",
   "execution_count": 1,
   "metadata": {},
   "outputs": [
    {
     "data": {
      "text/plain": [
       "'Sonal'"
      ]
     },
     "execution_count": 1,
     "metadata": {},
     "output_type": "execute_result"
    }
   ],
   "source": [
    "def my_first_function(name):\n",
    "    return name\n",
    "\n",
    "my_first_function ('Sonal')\n",
    "# print (my_first_function ('Sonal'))"
   ]
  },
  {
   "cell_type": "code",
   "execution_count": 2,
   "metadata": {},
   "outputs": [
    {
     "name": "stdout",
     "output_type": "stream",
     "text": [
      "7\n"
     ]
    }
   ],
   "source": [
    "def add_two_numbers(num1,num2):\n",
    "    return (num1 + num2)\n",
    "\n",
    "number1 = 2\n",
    "number2 = 5\n",
    "result = add_two_numbers(number1,number2)\n",
    "print (result)"
   ]
  },
  {
   "cell_type": "markdown",
   "metadata": {},
   "source": [
    "# Built-in Sequence Functions"
   ]
  },
  {
   "cell_type": "markdown",
   "metadata": {},
   "source": [
    "### Enumerate"
   ]
  },
  {
   "cell_type": "code",
   "execution_count": 3,
   "metadata": {},
   "outputs": [],
   "source": [
    "store_list = ['MacDonalds', 'Taco Bell', 'Dunkin Donuts', 'Wendys', 'Chiptole'] #List of food stores"
   ]
  },
  {
   "cell_type": "code",
   "execution_count": 4,
   "metadata": {},
   "outputs": [
    {
     "name": "stdout",
     "output_type": "stream",
     "text": [
      "0 MacDonalds\n",
      "1 Taco Bell\n",
      "2 Dunkin Donuts\n",
      "3 Wendys\n",
      "4 Chiptole\n"
     ]
    }
   ],
   "source": [
    "#Print data element and index using enumerate method \n",
    "for position, name in enumerate(store_list):\n",
    "    print (position, name)"
   ]
  },
  {
   "cell_type": "raw",
   "metadata": {},
   "source": [
    "#Print data element and index using enumerate method \n",
    "for a, b in enumerate(store_list):\n",
    "    print (a, b)"
   ]
  },
  {
   "cell_type": "markdown",
   "metadata": {},
   "source": [
    "### Sorted"
   ]
  },
  {
   "cell_type": "code",
   "execution_count": 5,
   "metadata": {},
   "outputs": [
    {
     "data": {
      "text/plain": [
       "[8, 27, 29, 37, 54, 65, 81]"
      ]
     },
     "execution_count": 5,
     "metadata": {},
     "output_type": "execute_result"
    }
   ],
   "source": [
    "#Sort numbers\n",
    "sorted([81,29,54,37,8,27,65])"
   ]
  },
  {
   "cell_type": "code",
   "execution_count": 6,
   "metadata": {},
   "outputs": [
    {
     "data": {
      "text/plain": [
       "[' ',\n",
       " ' ',\n",
       " 'a',\n",
       " 'a',\n",
       " 'c',\n",
       " 'd',\n",
       " 'e',\n",
       " 'e',\n",
       " 'h',\n",
       " 'i',\n",
       " 'i',\n",
       " 'n',\n",
       " 's',\n",
       " 's',\n",
       " 't',\n",
       " 't',\n",
       " 't',\n",
       " 't']"
      ]
     },
     "execution_count": 6,
     "metadata": {},
     "output_type": "execute_result"
    }
   ],
   "source": [
    "#Sort a string value\n",
    "sorted('the data scientist')"
   ]
  },
  {
   "cell_type": "markdown",
   "metadata": {},
   "source": [
    "# Control Flow: if, elif, else"
   ]
  },
  {
   "cell_type": "code",
   "execution_count": 7,
   "metadata": {},
   "outputs": [],
   "source": [
    "age = 21"
   ]
  },
  {
   "cell_type": "code",
   "execution_count": 8,
   "metadata": {},
   "outputs": [
    {
     "name": "stdout",
     "output_type": "stream",
     "text": [
      "adult\n"
     ]
    }
   ],
   "source": [
    "if age < 18:\n",
    "    print ('minor')\n",
    "else:\n",
    "    print ('adult')"
   ]
  },
  {
   "cell_type": "code",
   "execution_count": 10,
   "metadata": {},
   "outputs": [
    {
     "name": "stdout",
     "output_type": "stream",
     "text": [
      "grade D\n"
     ]
    }
   ],
   "source": [
    "#Nested if, elif and else\n",
    "marks = 70\n",
    "\n",
    "if marks > 90:\n",
    "    print ('grade A')\n",
    "elif 80<marks<=90:\n",
    "    print ('grade B')\n",
    "elif 70<marks<=80:\n",
    "    print ('grade C')\n",
    "elif 60<=marks<=70:\n",
    "    print ('grade D')\n",
    "else:\n",
    "    print ('grade F')"
   ]
  },
  {
   "cell_type": "markdown",
   "metadata": {},
   "source": [
    "# Control Flow: “for” Loops\n",
    "A “for” loop is used to iterate over a collection (like a list or tuple) or an iterator. "
   ]
  },
  {
   "cell_type": "code",
   "execution_count": 11,
   "metadata": {},
   "outputs": [],
   "source": [
    "stock_ticker = ['AAPL', 'MSFT', 'GOOGLE', None, 'AMZN', 'ORCL']"
   ]
  },
  {
   "cell_type": "code",
   "execution_count": 12,
   "metadata": {},
   "outputs": [
    {
     "name": "stdout",
     "output_type": "stream",
     "text": [
      "AAPL\n",
      "MSFT\n",
      "GOOGLE\n",
      "None\n",
      "AMZN\n",
      "ORCL\n"
     ]
    }
   ],
   "source": [
    "#For loop iterator\n",
    "for tickers in stock_ticker:\n",
    "    print (tickers)"
   ]
  },
  {
   "cell_type": "code",
   "execution_count": 13,
   "metadata": {},
   "outputs": [
    {
     "name": "stdout",
     "output_type": "stream",
     "text": [
      "AAPL\n",
      "MSFT\n",
      "GOOGLE\n",
      "AMZN\n",
      "ORCL\n"
     ]
    }
   ],
   "source": [
    "#The ‘continue’ statement\n",
    "for tickers in stock_ticker:\n",
    "    if (tickers is None):\n",
    "        continue\n",
    "    print (tickers)"
   ]
  },
  {
   "cell_type": "code",
   "execution_count": 14,
   "metadata": {},
   "outputs": [
    {
     "name": "stdout",
     "output_type": "stream",
     "text": [
      "AAPL\n",
      "MSFT\n",
      "GOOGLE\n"
     ]
    }
   ],
   "source": [
    "#The ‘break’ statement\n",
    "for tickers in stock_ticker:\n",
    "    if (tickers is None):\n",
    "        break\n",
    "    print (tickers)"
   ]
  },
  {
   "cell_type": "markdown",
   "metadata": {},
   "source": [
    "The function ‘continue’ is used to continue the operation if the condition is met, while the ‘break’ operation is used to exit the loop. \n"
   ]
  },
  {
   "cell_type": "markdown",
   "metadata": {},
   "source": [
    "# While Loop"
   ]
  },
  {
   "cell_type": "code",
   "execution_count": 15,
   "metadata": {},
   "outputs": [
    {
     "name": "stdout",
     "output_type": "stream",
     "text": [
      "100\n",
      "99\n",
      "98\n",
      "97\n",
      "96\n"
     ]
    }
   ],
   "source": [
    "temp = 100\n",
    "while temp > 95:\n",
    "    print (temp)\n",
    "    temp = temp - 1"
   ]
  },
  {
   "cell_type": "markdown",
   "metadata": {},
   "source": [
    "# Control Flow: Exception Handling"
   ]
  },
  {
   "cell_type": "markdown",
   "metadata": {},
   "source": [
    "Handling Python errors or exceptions gracefully is an important part of building robust programs and algorithms. \n",
    "\n",
    "In data analysis applications, many functions only work on certain kinds of input.\n",
    "\n",
    "Here in this example, we have created a function which accepts a number and returns the float value. \n",
    "\n",
    "It works fine for number values but the moment you pass a string value to the function it throws a value error. \n",
    "\n",
    "We can use a “try-except” block to handle the exception or error scenario. This helps to generate a graceful exit of the program or algorithm, as shown here. "
   ]
  },
  {
   "cell_type": "code",
   "execution_count": 16,
   "metadata": {},
   "outputs": [],
   "source": [
    "def test_float(number):\n",
    "    return float(number)"
   ]
  },
  {
   "cell_type": "code",
   "execution_count": 17,
   "metadata": {
    "collapsed": true
   },
   "outputs": [
    {
     "data": {
      "text/plain": [
       "3.14563"
      ]
     },
     "execution_count": 17,
     "metadata": {},
     "output_type": "execute_result"
    }
   ],
   "source": [
    "test_float(3.14563)"
   ]
  },
  {
   "cell_type": "code",
   "execution_count": 18,
   "metadata": {
    "collapsed": true
   },
   "outputs": [
    {
     "ename": "ValueError",
     "evalue": "could not convert string to float: 'test float'",
     "output_type": "error",
     "traceback": [
      "\u001b[1;31m---------------------------------------------------------------------------\u001b[0m",
      "\u001b[1;31mValueError\u001b[0m                                Traceback (most recent call last)",
      "\u001b[1;32m<ipython-input-18-e39c06435b77>\u001b[0m in \u001b[0;36m<module>\u001b[1;34m()\u001b[0m\n\u001b[0;32m      1\u001b[0m \u001b[1;31m#Pass wrong argument type\u001b[0m\u001b[1;33m\u001b[0m\u001b[1;33m\u001b[0m\u001b[0m\n\u001b[1;32m----> 2\u001b[1;33m \u001b[0mtest_float\u001b[0m\u001b[1;33m(\u001b[0m\u001b[1;34m\"test float\"\u001b[0m\u001b[1;33m)\u001b[0m\u001b[1;33m\u001b[0m\u001b[0m\n\u001b[0m",
      "\u001b[1;32m<ipython-input-16-4c0f8e1b61a5>\u001b[0m in \u001b[0;36mtest_float\u001b[1;34m(number)\u001b[0m\n\u001b[0;32m      1\u001b[0m \u001b[1;32mdef\u001b[0m \u001b[0mtest_float\u001b[0m\u001b[1;33m(\u001b[0m\u001b[0mnumber\u001b[0m\u001b[1;33m)\u001b[0m\u001b[1;33m:\u001b[0m\u001b[1;33m\u001b[0m\u001b[0m\n\u001b[1;32m----> 2\u001b[1;33m     \u001b[1;32mreturn\u001b[0m \u001b[0mfloat\u001b[0m\u001b[1;33m(\u001b[0m\u001b[0mnumber\u001b[0m\u001b[1;33m)\u001b[0m\u001b[1;33m\u001b[0m\u001b[0m\n\u001b[0m",
      "\u001b[1;31mValueError\u001b[0m: could not convert string to float: 'test float'"
     ]
    }
   ],
   "source": [
    "#Pass wrong argument type \n",
    "test_float(\"test float\")"
   ]
  },
  {
   "cell_type": "code",
   "execution_count": 20,
   "metadata": {},
   "outputs": [],
   "source": [
    "# Exception handling with try –except block\n",
    "def test_float(number):\n",
    "    try:\n",
    "        return float(number)\n",
    "    except ValueError:\n",
    "        return 'not a number, the input value is ', number"
   ]
  },
  {
   "cell_type": "code",
   "execution_count": 21,
   "metadata": {
    "collapsed": true
   },
   "outputs": [
    {
     "data": {
      "text/plain": [
       "('not a number, the input value is ', 'test float')"
      ]
     },
     "execution_count": 21,
     "metadata": {},
     "output_type": "execute_result"
    }
   ],
   "source": [
    "#Pass wrong argument type \n",
    "test_float(\"test float\")"
   ]
  }
 ],
 "metadata": {
  "anaconda-cloud": {},
  "kernelspec": {
   "display_name": "Python 3",
   "language": "python",
   "name": "python3"
  },
  "language_info": {
   "codemirror_mode": {
    "name": "ipython",
    "version": 3
   },
   "file_extension": ".py",
   "mimetype": "text/x-python",
   "name": "python",
   "nbconvert_exporter": "python",
   "pygments_lexer": "ipython3",
   "version": "3.7.0"
  }
 },
 "nbformat": 4,
 "nbformat_minor": 2
}
